{
 "cells": [
  {
   "cell_type": "code",
   "execution_count": 47,
   "id": "60e08b0e",
   "metadata": {},
   "outputs": [],
   "source": [
    "import pandas as pd\n",
    "import matplotlib.pyplot as plt"
   ]
  },
  {
   "cell_type": "code",
   "execution_count": 5,
   "id": "cd49a30a",
   "metadata": {},
   "outputs": [
    {
     "data": {
      "text/html": [
       "<div>\n",
       "<style scoped>\n",
       "    .dataframe tbody tr th:only-of-type {\n",
       "        vertical-align: middle;\n",
       "    }\n",
       "\n",
       "    .dataframe tbody tr th {\n",
       "        vertical-align: top;\n",
       "    }\n",
       "\n",
       "    .dataframe thead th {\n",
       "        text-align: right;\n",
       "    }\n",
       "</style>\n",
       "<table border=\"1\" class=\"dataframe\">\n",
       "  <thead>\n",
       "    <tr style=\"text-align: right;\">\n",
       "      <th></th>\n",
       "      <th>ID_CONTA</th>\n",
       "      <th>DT_VENCIMENTO</th>\n",
       "      <th>DS_ROLAGEM</th>\n",
       "      <th>VL_FATURA</th>\n",
       "    </tr>\n",
       "  </thead>\n",
       "  <tbody>\n",
       "    <tr>\n",
       "      <th>0</th>\n",
       "      <td>402467</td>\n",
       "      <td>2019-01-01</td>\n",
       "      <td>FX0</td>\n",
       "      <td>210.00</td>\n",
       "    </tr>\n",
       "    <tr>\n",
       "      <th>1</th>\n",
       "      <td>403001</td>\n",
       "      <td>2019-01-01</td>\n",
       "      <td>FX1</td>\n",
       "      <td>1097.18</td>\n",
       "    </tr>\n",
       "    <tr>\n",
       "      <th>2</th>\n",
       "      <td>403499</td>\n",
       "      <td>2019-01-01</td>\n",
       "      <td>FX0</td>\n",
       "      <td>1209.88</td>\n",
       "    </tr>\n",
       "    <tr>\n",
       "      <th>3</th>\n",
       "      <td>403670</td>\n",
       "      <td>2019-01-01</td>\n",
       "      <td>FX0</td>\n",
       "      <td>667.40</td>\n",
       "    </tr>\n",
       "    <tr>\n",
       "      <th>4</th>\n",
       "      <td>404183</td>\n",
       "      <td>2019-01-01</td>\n",
       "      <td>FX1</td>\n",
       "      <td>1239.52</td>\n",
       "    </tr>\n",
       "    <tr>\n",
       "      <th>...</th>\n",
       "      <td>...</td>\n",
       "      <td>...</td>\n",
       "      <td>...</td>\n",
       "      <td>...</td>\n",
       "    </tr>\n",
       "    <tr>\n",
       "      <th>2728244</th>\n",
       "      <td>1624841</td>\n",
       "      <td>2019-08-08</td>\n",
       "      <td>FX1</td>\n",
       "      <td>1467.05</td>\n",
       "    </tr>\n",
       "    <tr>\n",
       "      <th>2728245</th>\n",
       "      <td>1624848</td>\n",
       "      <td>2019-08-08</td>\n",
       "      <td>FX0</td>\n",
       "      <td>1189.15</td>\n",
       "    </tr>\n",
       "    <tr>\n",
       "      <th>2728246</th>\n",
       "      <td>1624871</td>\n",
       "      <td>2019-08-08</td>\n",
       "      <td>FX1</td>\n",
       "      <td>427.72</td>\n",
       "    </tr>\n",
       "    <tr>\n",
       "      <th>2728247</th>\n",
       "      <td>1624878</td>\n",
       "      <td>2019-08-08</td>\n",
       "      <td>FX0</td>\n",
       "      <td>281.14</td>\n",
       "    </tr>\n",
       "    <tr>\n",
       "      <th>2728248</th>\n",
       "      <td>1624884</td>\n",
       "      <td>2019-08-08</td>\n",
       "      <td>FX0</td>\n",
       "      <td>313.00</td>\n",
       "    </tr>\n",
       "  </tbody>\n",
       "</table>\n",
       "<p>2728249 rows × 4 columns</p>\n",
       "</div>"
      ],
      "text/plain": [
       "         ID_CONTA DT_VENCIMENTO DS_ROLAGEM  VL_FATURA\n",
       "0          402467    2019-01-01        FX0     210.00\n",
       "1          403001    2019-01-01        FX1    1097.18\n",
       "2          403499    2019-01-01        FX0    1209.88\n",
       "3          403670    2019-01-01        FX0     667.40\n",
       "4          404183    2019-01-01        FX1    1239.52\n",
       "...           ...           ...        ...        ...\n",
       "2728244   1624841    2019-08-08        FX1    1467.05\n",
       "2728245   1624848    2019-08-08        FX0    1189.15\n",
       "2728246   1624871    2019-08-08        FX1     427.72\n",
       "2728247   1624878    2019-08-08        FX0     281.14\n",
       "2728248   1624884    2019-08-08        FX0     313.00\n",
       "\n",
       "[2728249 rows x 4 columns]"
      ]
     },
     "execution_count": 5,
     "metadata": {},
     "output_type": "execute_result"
    }
   ],
   "source": [
    "case = pd.read_csv('case1.txt',delim_whitespace=True)\n",
    "case"
   ]
  },
  {
   "cell_type": "code",
   "execution_count": 48,
   "id": "5aa0c7f4",
   "metadata": {
    "scrolled": true
   },
   "outputs": [
    {
     "data": {
      "text/html": [
       "<div>\n",
       "<style scoped>\n",
       "    .dataframe tbody tr th:only-of-type {\n",
       "        vertical-align: middle;\n",
       "    }\n",
       "\n",
       "    .dataframe tbody tr th {\n",
       "        vertical-align: top;\n",
       "    }\n",
       "\n",
       "    .dataframe thead th {\n",
       "        text-align: right;\n",
       "    }\n",
       "</style>\n",
       "<table border=\"1\" class=\"dataframe\">\n",
       "  <thead>\n",
       "    <tr style=\"text-align: right;\">\n",
       "      <th></th>\n",
       "      <th>ID_CONTA</th>\n",
       "      <th>DT_VENCIMENTO</th>\n",
       "      <th>DS_ROLAGEM</th>\n",
       "      <th>VL_FATURA</th>\n",
       "    </tr>\n",
       "  </thead>\n",
       "  <tbody>\n",
       "    <tr>\n",
       "      <th>967588</th>\n",
       "      <td>99416</td>\n",
       "      <td>2019-09-01</td>\n",
       "      <td>FX0</td>\n",
       "      <td>2860.79</td>\n",
       "    </tr>\n",
       "    <tr>\n",
       "      <th>967589</th>\n",
       "      <td>52706</td>\n",
       "      <td>2019-09-01</td>\n",
       "      <td>FX0</td>\n",
       "      <td>180.00</td>\n",
       "    </tr>\n",
       "    <tr>\n",
       "      <th>967590</th>\n",
       "      <td>1024221</td>\n",
       "      <td>2019-09-01</td>\n",
       "      <td>FX0</td>\n",
       "      <td>813.28</td>\n",
       "    </tr>\n",
       "    <tr>\n",
       "      <th>967591</th>\n",
       "      <td>1024238</td>\n",
       "      <td>2019-09-01</td>\n",
       "      <td>FX0</td>\n",
       "      <td>808.15</td>\n",
       "    </tr>\n",
       "    <tr>\n",
       "      <th>967592</th>\n",
       "      <td>1024293</td>\n",
       "      <td>2019-09-01</td>\n",
       "      <td>FX0</td>\n",
       "      <td>2068.17</td>\n",
       "    </tr>\n",
       "    <tr>\n",
       "      <th>...</th>\n",
       "      <td>...</td>\n",
       "      <td>...</td>\n",
       "      <td>...</td>\n",
       "      <td>...</td>\n",
       "    </tr>\n",
       "    <tr>\n",
       "      <th>1487070</th>\n",
       "      <td>1751997</td>\n",
       "      <td>2019-09-23</td>\n",
       "      <td>FX0</td>\n",
       "      <td>33.18</td>\n",
       "    </tr>\n",
       "    <tr>\n",
       "      <th>1487071</th>\n",
       "      <td>1752023</td>\n",
       "      <td>2019-09-23</td>\n",
       "      <td>FX0</td>\n",
       "      <td>108.14</td>\n",
       "    </tr>\n",
       "    <tr>\n",
       "      <th>1487072</th>\n",
       "      <td>1752049</td>\n",
       "      <td>2019-09-23</td>\n",
       "      <td>FX0</td>\n",
       "      <td>117.94</td>\n",
       "    </tr>\n",
       "    <tr>\n",
       "      <th>1487073</th>\n",
       "      <td>1752120</td>\n",
       "      <td>2019-09-23</td>\n",
       "      <td>FX0</td>\n",
       "      <td>32.29</td>\n",
       "    </tr>\n",
       "    <tr>\n",
       "      <th>1487074</th>\n",
       "      <td>1752194</td>\n",
       "      <td>2019-09-23</td>\n",
       "      <td>FX0</td>\n",
       "      <td>85.08</td>\n",
       "    </tr>\n",
       "  </tbody>\n",
       "</table>\n",
       "<p>257177 rows × 4 columns</p>\n",
       "</div>"
      ],
      "text/plain": [
       "         ID_CONTA DT_VENCIMENTO DS_ROLAGEM  VL_FATURA\n",
       "967588      99416    2019-09-01        FX0    2860.79\n",
       "967589      52706    2019-09-01        FX0     180.00\n",
       "967590    1024221    2019-09-01        FX0     813.28\n",
       "967591    1024238    2019-09-01        FX0     808.15\n",
       "967592    1024293    2019-09-01        FX0    2068.17\n",
       "...           ...           ...        ...        ...\n",
       "1487070   1751997    2019-09-23        FX0      33.18\n",
       "1487071   1752023    2019-09-23        FX0     108.14\n",
       "1487072   1752049    2019-09-23        FX0     117.94\n",
       "1487073   1752120    2019-09-23        FX0      32.29\n",
       "1487074   1752194    2019-09-23        FX0      85.08\n",
       "\n",
       "[257177 rows x 4 columns]"
      ]
     },
     "execution_count": 48,
     "metadata": {},
     "output_type": "execute_result"
    }
   ],
   "source": [
    "fat_set = case[case['DT_VENCIMENTO'] >= '2019-09-01']\n",
    "fat_set"
   ]
  },
  {
   "cell_type": "code",
   "execution_count": 62,
   "id": "a064cddc",
   "metadata": {
    "scrolled": true
   },
   "outputs": [
    {
     "data": {
      "text/plain": [
       "967588     FX0\n",
       "967589     FX0\n",
       "967590     FX0\n",
       "967591     FX0\n",
       "967592     FX0\n",
       "          ... \n",
       "1487070    FX0\n",
       "1487071    FX0\n",
       "1487072    FX0\n",
       "1487073    FX0\n",
       "1487074    FX0\n",
       "Name: DS_ROLAGEM, Length: 257177, dtype: object"
      ]
     },
     "execution_count": 62,
     "metadata": {},
     "output_type": "execute_result"
    }
   ],
   "source": [
    "ds_rolagem = fat_set['DS_ROLAGEM']\n",
    "ds_rolagem"
   ]
  },
  {
   "cell_type": "code",
   "execution_count": 111,
   "id": "192a2882",
   "metadata": {},
   "outputs": [
    {
     "data": {
      "text/plain": [
       "967588     FX0\n",
       "967589     FX0\n",
       "967590     FX0\n",
       "967591     FX0\n",
       "967592     FX0\n",
       "          ... \n",
       "1487071    FX0\n",
       "1487072    FX0\n",
       "1487073    FX0\n",
       "1487074    FX0\n",
       "FX1          1\n",
       "Name: DS_ROLAGEM, Length: 257178, dtype: object"
      ]
     },
     "execution_count": 111,
     "metadata": {},
     "output_type": "execute_result"
    }
   ],
   "source": [
    "if "
   ]
  },
  {
   "cell_type": "code",
   "execution_count": 85,
   "id": "1918c1cb",
   "metadata": {},
   "outputs": [
    {
     "name": "stdout",
     "output_type": "stream",
     "text": [
      "FX0    235222\n",
      "FX1     21955\n",
      "Name: DS_ROLAGEM, dtype: int64\n",
      "\n",
      "Taxa de inadimplencia:\n"
     ]
    },
    {
     "data": {
      "image/png": "[encoded data removed]",
      "text/plain": [
       "<Figure size 432x288 with 1 Axes>"
      ]
     },
     "metadata": {
      "needs_background": "light"
     },
     "output_type": "display_data"
    }
   ],
   "source": [
    "ds_rolagem.value_counts().plot.bar()\n",
    "print(ds_rolagem.value_counts())\n",
    "print('\\nTaxa de inadimplencia:')\n",
    "print()"
   ]
  },
  {
   "cell_type": "code",
   "execution_count": 124,
   "id": "5c82ef0c",
   "metadata": {},
   "outputs": [
    {
     "data": {
      "text/plain": [
       "0          False\n",
       "1          False\n",
       "2          False\n",
       "3          False\n",
       "4          False\n",
       "           ...  \n",
       "2728244     True\n",
       "2728245     True\n",
       "2728246     True\n",
       "2728247     True\n",
       "2728248     True\n",
       "Name: DT_VENCIMENTO, Length: 2728249, dtype: bool"
      ]
     },
     "execution_count": 124,
     "metadata": {},
     "output_type": "execute_result"
    }
   ],
   "source": [
    "QTD_FATURA = (case['DT_VENCIMENTO'] >= '2019-03-01') & (case['DT_VENCIMENTO']<= '2019-08-31')\n",
    "QTD_FATURA"
   ]
  },
  {
   "cell_type": "code",
   "execution_count": 129,
   "id": "c79d90ad",
   "metadata": {},
   "outputs": [
    {
     "data": {
      "text/plain": [
       "<bound method IndexOpsMixin.value_counts of 464874     1624902\n",
       "464875     1624908\n",
       "464876     1624916\n",
       "464877     1624951\n",
       "464878     1624975\n",
       "            ...   \n",
       "2728244    1624841\n",
       "2728245    1624848\n",
       "2728246    1624871\n",
       "2728247    1624878\n",
       "2728248    1624884\n",
       "Name: ID_CONTA, Length: 1843840, dtype: int64>"
      ]
     },
     "execution_count": 129,
     "metadata": {},
     "output_type": "execute_result"
    }
   ],
   "source": [
    "case[QTD_FATURA]['ID_CONTA'].value_counts"
   ]
  }
 ],
 "metadata": {
  "kernelspec": {
   "display_name": "Python 3 (ipykernel)",
   "language": "python",
   "name": "python3"
  },
  "language_info": {
   "codemirror_mode": {
    "name": "ipython",
    "version": 3
   },
   "file_extension": ".py",
   "mimetype": "text/x-python",
   "name": "python",
   "nbconvert_exporter": "python",
   "pygments_lexer": "ipython3",
   "version": "3.9.7"
  }
 },
 "nbformat": 4,
 "nbformat_minor": 5
}
